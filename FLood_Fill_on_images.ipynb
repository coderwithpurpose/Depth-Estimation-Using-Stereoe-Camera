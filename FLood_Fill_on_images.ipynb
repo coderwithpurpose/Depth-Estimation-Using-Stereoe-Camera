{
 "cells": [
  {
   "cell_type": "code",
   "execution_count": 114,
   "metadata": {
    "collapsed": true
   },
   "outputs": [],
   "source": [
    "import os\n",
    "from skimage.color import rgb2hsv, gray2rgb , rgb2gray\n",
    "from skimage import io\n",
    "from scipy import ndimage\n",
    "import numpy as np\n",
    "import cv2\n",
    "import matplotlib.pyplot as plt\n",
    "import copy\n",
    "import time \n",
    "from skimage.segmentation import flood, flood_fill\n"
   ]
  },
  {
   "cell_type": "code",
   "execution_count": 115,
   "metadata": {},
   "outputs": [
    {
     "name": "stdout",
     "output_type": "stream",
     "text": [
      "Number of blobls: 1009\n",
      "(720, 1280)\n"
     ]
    },
    {
     "data": {
      "image/png": "[encoded data removed]",
      "text/plain": [
       "<Figure size 432x288 with 1 Axes>"
      ]
     },
     "metadata": {},
     "output_type": "display_data"
    },
    {
     "name": "stdout",
     "output_type": "stream",
     "text": [
      "[  0   0 955 ...   0   0   0]\n",
      "[[0 0 0 ... 0 0 0]\n",
      " [0 0 0 ... 0 0 0]\n",
      " [0 0 0 ... 0 0 0]\n",
      " ...\n",
      " [0 0 0 ... 0 0 0]\n",
      " [0 0 0 ... 0 0 0]\n",
      " [0 0 0 ... 0 0 0]]\n"
     ]
    },
    {
     "data": {
      "image/png": "[encoded data removed]",
      "text/plain": [
       "<Figure size 432x288 with 1 Axes>"
      ]
     },
     "metadata": {},
     "output_type": "display_data"
    }
   ],
   "source": [
    "%matplotlib inline\n",
    "import scipy\n",
    "from scipy import ndimage\n",
    "import matplotlib.pyplot as plt\n",
    "\n",
    "mask = np.load('mask.npy') \n",
    "\n",
    "blobs, number_of_blobs = ndimage.label(mask)\n",
    "print('Number of blobls:', number_of_blobs)\n",
    "print(np.shape(mask))\n",
    "# print(np.argwhere(mask==0))\n",
    "plt.imshow(blobs)\n",
    "plt.show() \n",
    "print(blobs[710]) \n",
    "mask = mask.transpose() \n",
    "print(blobs.imag)\n",
    "for idx in range(0,number_of_blobs): \n",
    "    idxs = np.argwhere(blobs==idx)\n",
    "    threat_level = len(idxs)  \n",
    "#     print(threat_level)\n",
    "    if threat_level < 10: \n",
    "        ### then not dangerous patch of water ###  \n",
    "#         print(idxs)\n",
    "        mask[idxs]=0 \n",
    "mask = mask.transpose()\n",
    "plt.imshow(mask)\n",
    "plt.show() "
   ]
  },
  {
   "cell_type": "code",
   "execution_count": 130,
   "metadata": {
    "scrolled": true
   },
   "outputs": [
    {
     "name": "stdout",
     "output_type": "stream",
     "text": [
      "[  0.          63.75        90.1561146  127.5        142.54933357\n",
      " 180.3122292  191.25       201.59520084]\n",
      "[-255.   -191.25 -127.5   -63.75    0.     63.75  127.5   191.25  255.  ]\n",
      "[-255.   -191.25 -127.5   -63.75    0.     63.75  127.5   191.25  255.  ]\n",
      "[  0.          45.0780573   47.8125      67.61708595  85.82606411\n",
      " 111.5625     112.69514325 121.37638387 131.42399182 150.35407429\n",
      " 159.375      166.39238499 180.3122292  207.1875     212.63277102]\n"
     ]
    }
   ],
   "source": [
    "mask = np.load('mask.npy')*255.0\n",
    "import numpy as np\n",
    "import matplotlib.pyplot as plt\n",
    "\n",
    "from skimage.data import camera\n",
    "from skimage.filters import roberts, sobel, sobel_h, sobel_v, scharr\n",
    "\n",
    "image = camera() \n",
    "edge_roberts = roberts(mask)\n",
    "edge_sobel = sobel(mask)\n",
    "edge_sobel2 = sobel_h(mask)\n",
    "edge_sobel3 = sobel_v(mask)\n",
    "r = scharr(mask)\n",
    "print(np.unique(edge_sobel))\n",
    "print(np.unique(edge_sobel2))\n",
    "print(np.unique(edge_sobel3))\n",
    "print(np.unique(r))\n"
   ]
  },
  {
   "cell_type": "code",
   "execution_count": 79,
   "metadata": {},
   "outputs": [
    {
     "name": "stdout",
     "output_type": "stream",
     "text": [
      "[ 96814 133586]\n",
      "[  1583   1667   2586 224564]\n",
      "[    57  61327 169016]\n",
      "[     2    344    402  11037 218615]\n",
      "[ 47217 183183]\n",
      "[ 89684 140716]\n",
      "[  2925  38521 188954]\n",
      "[    29     51  29828 200492]\n",
      "[    19   5177  24778 200426]\n",
      "[     1     16     92    242  15654  74556 139839]\n",
      "[ 59133 171267]\n"
     ]
    }
   ],
   "source": [
    "import numpy as np\n",
    "import cv2 \n",
    "import matplotlib.pyplot as plt\n",
    "import matplotlib.pyplot as plt\n",
    "\n",
    "def imshow_components(labels,img,idx):\n",
    "    # Map component labels to hue val\n",
    "    label_hue = np.uint8(179*labels/np.max(labels))\n",
    "    blank_ch = 255*np.ones_like(label_hue)\n",
    "    labeled_img = cv2.merge([label_hue, blank_ch, blank_ch])\n",
    "\n",
    "    labeled_img = cv2.cvtColor(labeled_img, cv2.COLOR_HSV2RGB)\n",
    "\n",
    "    labeled_img[label_hue==0] = 0\n",
    "    idxs = np.argwhere(labeled_img>0) \n",
    "    plt.scatter(idxs[:, 1], idxs[:, 0], c='blue', s=1, label='Fusion Cue') \n",
    "    plt.imshow(img)\n",
    "#     plt.show()\n",
    "    plt.savefig('area_filtered_image_'+str(x).zfill(2)+'.png')\n",
    "\n",
    "\n",
    "\n",
    "def plt_mask(mask,img,idx):   \n",
    "    idxs = np.argwhere(mask==1) \n",
    "    plt.scatter(idxs[:, 1], idxs[:, 0], c='blue', s=1, label='Fusion Cue') \n",
    "    plt.imshow(img)\n",
    "#     plt.show() \n",
    "    plt.savefig('not_cleaned__predected_image_'+str(x).zfill(2)+'.png')\n",
    "\n",
    "    \n",
    "for xx in range(0,11):    \n",
    "    mask1 = np.load('down_sampled_imgs/masks/mask_'+str(xx).zfill(2)+'.npy')\n",
    "\n",
    "    mask = cv2.blur(mask1,(51,51)) \n",
    "\n",
    "    img = cv2.imread('down_sampled_imgs/img_'+str(xx).zfill(2)+'.png') #     RGB_img = cv2.cvtColor(labeled_img, cv2.COLOR_BGR2RGB)\n",
    "    img = cv2.cvtColor(img, cv2.COLOR_BGR2RGB)\n",
    "    w,l = np.shape(mask) \n",
    "    \n",
    "    for xidx in range(0,120): \n",
    "        for yidx in range(0,120):\n",
    "            if(xidx+yidx)<121: \n",
    "                mask[xidx,yidx] = 0 \n",
    "                mask[xidx,-yidx] = 0 \n",
    "\n",
    "    output = cv2.connectedComponentsWithStats(mask,connectivity=8)\n",
    "\n",
    "\n",
    "    num_labels = output[0] \n",
    "    # The second cell is the label matrix\n",
    "    labels = output[1]\n",
    "    # The third cell is the stat matrix\n",
    "    stats = output[2]\n",
    "    # The fourth cell is the centroid matrix\n",
    "    centroids = output[3]\n",
    "\n",
    "    filtered = 0 \n",
    "    print(np.unique(stats[:,-1]))\n",
    "    for i in range(0,num_labels): \n",
    "        area = stats[i,-1]  \n",
    "        if area < 800: \n",
    "            idxs = np.argwhere(labels==i)\n",
    "            labels = np.transpose(labels)\n",
    "            labels[idxs] = 0  \n",
    "            labels= np.transpose(labels) \n",
    "            filtered+=1 \n",
    "        else: \n",
    "            font = cv2.FONT_HERSHEY_COMPLEX  \n",
    "            x,y=((centroids[i]))\n",
    "            cv2.putText(labels, str(area) , (int(x),int(y)), font, 1, (0, 255, 0)) \n",
    "    plt_mask(mask=mask1,img=img,idx=xx)\n",
    "#     print('batches left ',num_labels-filtered)\n",
    "    imshow_components(labels,img,idx=xx)  "
   ]
  }
 ],
 "metadata": {
  "kernelspec": {
   "display_name": "Python 3",
   "language": "python",
   "name": "python3"
  },
  "language_info": {
   "codemirror_mode": {
    "name": "ipython",
    "version": 3
   },
   "file_extension": ".py",
   "mimetype": "text/x-python",
   "name": "python",
   "nbconvert_exporter": "python",
   "pygments_lexer": "ipython3",
   "version": "3.6.7"
  }
 },
 "nbformat": 4,
 "nbformat_minor": 2
}
